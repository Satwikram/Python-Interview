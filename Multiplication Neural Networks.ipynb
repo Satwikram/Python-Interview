{
  "nbformat": 4,
  "nbformat_minor": 0,
  "metadata": {
    "colab": {
      "name": "Multiplication-Neural-Networks.ipynb",
      "provenance": [],
      "collapsed_sections": [],
      "authorship_tag": "ABX9TyPXFqlMzoB3FFRzwJgXtm7Y",
      "include_colab_link": true
    },
    "kernelspec": {
      "name": "python3",
      "display_name": "Python 3"
    },
    "language_info": {
      "name": "python"
    },
    "accelerator": "GPU"
  },
  "cells": [
    {
      "cell_type": "markdown",
      "metadata": {
        "id": "view-in-github",
        "colab_type": "text"
      },
      "source": [
        "<a href=\"https://colab.research.google.com/github/Satwikram/Python-Interview/blob/main/Multiplication%20Neural%20Networks.ipynb\" target=\"_parent\"><img src=\"https://colab.research.google.com/assets/colab-badge.svg\" alt=\"Open In Colab\"/></a>"
      ]
    },
    {
      "cell_type": "code",
      "metadata": {
        "id": "HyC2beNwdNtl"
      },
      "source": [
        "x1 = []\n",
        "x2 = []\n",
        "y = []"
      ],
      "execution_count": null,
      "outputs": []
    },
    {
      "cell_type": "code",
      "metadata": {
        "id": "4aNKXKSUc9aq"
      },
      "source": [
        "for i in range(1, 101):\n",
        "  for j in range(1, 101):\n",
        "    x1.append(i)\n",
        "    x2.append(j)\n",
        "    y.append(i*j)\n",
        "    "
      ],
      "execution_count": null,
      "outputs": []
    },
    {
      "cell_type": "code",
      "metadata": {
        "id": "IuUhmKEvdZTq"
      },
      "source": [
        "import numpy as np\n",
        "import pandas as pd"
      ],
      "execution_count": null,
      "outputs": []
    },
    {
      "cell_type": "code",
      "metadata": {
        "id": "EapG37BGdW6W"
      },
      "source": [
        "df = pd.DataFrame({\"x1\": x1, \"x2\": x2, \"y\": y})"
      ],
      "execution_count": null,
      "outputs": []
    },
    {
      "cell_type": "code",
      "metadata": {
        "colab": {
          "base_uri": "https://localhost:8080/",
          "height": 206
        },
        "id": "5Dm9GsZ6djo_",
        "outputId": "78007c77-bbe5-4c6e-dd2d-21769c224c55"
      },
      "source": [
        "df.head()"
      ],
      "execution_count": null,
      "outputs": [
        {
          "output_type": "execute_result",
          "data": {
            "text/html": [
              "<div>\n",
              "<style scoped>\n",
              "    .dataframe tbody tr th:only-of-type {\n",
              "        vertical-align: middle;\n",
              "    }\n",
              "\n",
              "    .dataframe tbody tr th {\n",
              "        vertical-align: top;\n",
              "    }\n",
              "\n",
              "    .dataframe thead th {\n",
              "        text-align: right;\n",
              "    }\n",
              "</style>\n",
              "<table border=\"1\" class=\"dataframe\">\n",
              "  <thead>\n",
              "    <tr style=\"text-align: right;\">\n",
              "      <th></th>\n",
              "      <th>x1</th>\n",
              "      <th>x2</th>\n",
              "      <th>y</th>\n",
              "    </tr>\n",
              "  </thead>\n",
              "  <tbody>\n",
              "    <tr>\n",
              "      <th>0</th>\n",
              "      <td>1</td>\n",
              "      <td>1</td>\n",
              "      <td>1</td>\n",
              "    </tr>\n",
              "    <tr>\n",
              "      <th>1</th>\n",
              "      <td>1</td>\n",
              "      <td>2</td>\n",
              "      <td>2</td>\n",
              "    </tr>\n",
              "    <tr>\n",
              "      <th>2</th>\n",
              "      <td>1</td>\n",
              "      <td>3</td>\n",
              "      <td>3</td>\n",
              "    </tr>\n",
              "    <tr>\n",
              "      <th>3</th>\n",
              "      <td>1</td>\n",
              "      <td>4</td>\n",
              "      <td>4</td>\n",
              "    </tr>\n",
              "    <tr>\n",
              "      <th>4</th>\n",
              "      <td>1</td>\n",
              "      <td>5</td>\n",
              "      <td>5</td>\n",
              "    </tr>\n",
              "  </tbody>\n",
              "</table>\n",
              "</div>"
            ],
            "text/plain": [
              "   x1  x2  y\n",
              "0   1   1  1\n",
              "1   1   2  2\n",
              "2   1   3  3\n",
              "3   1   4  4\n",
              "4   1   5  5"
            ]
          },
          "metadata": {},
          "execution_count": 41
        }
      ]
    },
    {
      "cell_type": "code",
      "metadata": {
        "id": "iMbLPhXGdknz"
      },
      "source": [
        "import tensorflow as tf"
      ],
      "execution_count": null,
      "outputs": []
    },
    {
      "cell_type": "code",
      "metadata": {
        "id": "OO5QjwPCdp9y"
      },
      "source": [
        "model = tf.keras.models.Sequential([\n",
        "                                    \n",
        "        tf.keras.layers.Dense(units = 512, activation=\"relu\"),\n",
        "        tf.keras.layers.BatchNormalization(),\n",
        "        tf.keras.layers.Dropout(0.2),\n",
        "        tf.keras.layers.Dense(units = 512, activation=\"relu\"),\n",
        "        tf.keras.layers.BatchNormalization(),\n",
        "        tf.keras.layers.Dropout(0.2),\n",
        "        tf.keras.layers.Dense(units = 1, activation=\"linear\")\n",
        "])"
      ],
      "execution_count": null,
      "outputs": []
    },
    {
      "cell_type": "code",
      "metadata": {
        "id": "dWOX_8eWeQw_"
      },
      "source": [
        "model.compile(optimizer=\"adam\", loss=tf.keras.losses.MeanSquaredError(), metrics=[\"mse\"])"
      ],
      "execution_count": null,
      "outputs": []
    },
    {
      "cell_type": "code",
      "metadata": {
        "id": "ds-5Vsybef_y"
      },
      "source": [
        "X = df.drop(columns=\"y\")"
      ],
      "execution_count": null,
      "outputs": []
    },
    {
      "cell_type": "code",
      "metadata": {
        "id": "UXg4qTA4ereU"
      },
      "source": [
        "X = np.array(X)"
      ],
      "execution_count": null,
      "outputs": []
    },
    {
      "cell_type": "code",
      "metadata": {
        "id": "FKoCBWQweyPi"
      },
      "source": [
        "y = df[\"y\"].values"
      ],
      "execution_count": null,
      "outputs": []
    },
    {
      "cell_type": "code",
      "metadata": {
        "colab": {
          "base_uri": "https://localhost:8080/"
        },
        "id": "AX8h-X-UebnM",
        "outputId": "de9174e8-4e06-4664-a8bb-d2cd6cb79f03"
      },
      "source": [
        "model.fit(X, y, epochs=100, validation_split=0.2)"
      ],
      "execution_count": null,
      "outputs": [
        {
          "output_type": "stream",
          "name": "stdout",
          "text": [
            "Epoch 1/100\n",
            "250/250 [==============================] - 2s 8ms/step - loss: 251852.1875 - mse: 251852.1875 - val_loss: 123174.3828 - val_mse: 123174.3828\n",
            "Epoch 2/100\n",
            "250/250 [==============================] - 2s 7ms/step - loss: 160599.7812 - mse: 160599.7812 - val_loss: 39871.0430 - val_mse: 39871.0430\n",
            "Epoch 3/100\n",
            "250/250 [==============================] - 2s 7ms/step - loss: 139309.9375 - mse: 139309.9375 - val_loss: 96067.4141 - val_mse: 96067.4141\n",
            "Epoch 4/100\n",
            "250/250 [==============================] - 2s 7ms/step - loss: 132110.9062 - mse: 132110.9062 - val_loss: 61256.6445 - val_mse: 61256.6445\n",
            "Epoch 5/100\n",
            "250/250 [==============================] - 2s 7ms/step - loss: 125257.3828 - mse: 125257.3828 - val_loss: 170412.2656 - val_mse: 170412.2656\n",
            "Epoch 6/100\n",
            "250/250 [==============================] - 2s 7ms/step - loss: 133282.2031 - mse: 133282.2031 - val_loss: 95803.4609 - val_mse: 95803.4609\n",
            "Epoch 7/100\n",
            "250/250 [==============================] - 2s 7ms/step - loss: 121890.3750 - mse: 121890.3750 - val_loss: 71408.6016 - val_mse: 71408.6016\n",
            "Epoch 8/100\n",
            "250/250 [==============================] - 2s 7ms/step - loss: 119466.4141 - mse: 119466.4141 - val_loss: 101403.9219 - val_mse: 101403.9219\n",
            "Epoch 9/100\n",
            "250/250 [==============================] - 2s 7ms/step - loss: 119867.9922 - mse: 119867.9922 - val_loss: 75373.3438 - val_mse: 75373.3438\n",
            "Epoch 10/100\n",
            "250/250 [==============================] - 2s 8ms/step - loss: 124777.0469 - mse: 124777.0469 - val_loss: 181566.9375 - val_mse: 181566.9375\n",
            "Epoch 11/100\n",
            "250/250 [==============================] - 2s 7ms/step - loss: 132834.2656 - mse: 132834.2656 - val_loss: 104054.9766 - val_mse: 104054.9766\n",
            "Epoch 12/100\n",
            "250/250 [==============================] - 2s 7ms/step - loss: 154727.6250 - mse: 154727.6250 - val_loss: 111077.6953 - val_mse: 111077.6953\n",
            "Epoch 13/100\n",
            "250/250 [==============================] - 2s 7ms/step - loss: 143659.0938 - mse: 143659.0938 - val_loss: 86189.4922 - val_mse: 86189.4922\n",
            "Epoch 14/100\n",
            "250/250 [==============================] - 2s 8ms/step - loss: 138410.5000 - mse: 138410.5000 - val_loss: 204795.5312 - val_mse: 204795.5312\n",
            "Epoch 15/100\n",
            "250/250 [==============================] - 2s 7ms/step - loss: 134852.5781 - mse: 134852.5781 - val_loss: 207510.4844 - val_mse: 207510.4844\n",
            "Epoch 16/100\n",
            "250/250 [==============================] - 2s 7ms/step - loss: 117736.5156 - mse: 117736.5156 - val_loss: 153841.6406 - val_mse: 153841.6406\n",
            "Epoch 17/100\n",
            "250/250 [==============================] - 2s 7ms/step - loss: 127527.2188 - mse: 127527.2188 - val_loss: 134457.5625 - val_mse: 134457.5625\n",
            "Epoch 18/100\n",
            "250/250 [==============================] - 2s 7ms/step - loss: 128721.2969 - mse: 128721.2969 - val_loss: 107056.7422 - val_mse: 107056.7422\n",
            "Epoch 19/100\n",
            "250/250 [==============================] - 2s 7ms/step - loss: 131097.0156 - mse: 131097.0156 - val_loss: 83624.1953 - val_mse: 83624.1953\n",
            "Epoch 20/100\n",
            "250/250 [==============================] - 2s 7ms/step - loss: 126318.7500 - mse: 126318.7500 - val_loss: 90291.7266 - val_mse: 90291.7266\n",
            "Epoch 21/100\n",
            "250/250 [==============================] - 2s 7ms/step - loss: 127538.5859 - mse: 127538.5859 - val_loss: 148107.8281 - val_mse: 148107.8281\n",
            "Epoch 22/100\n",
            "250/250 [==============================] - 2s 7ms/step - loss: 128182.7344 - mse: 128182.7344 - val_loss: 98743.9531 - val_mse: 98743.9531\n",
            "Epoch 23/100\n",
            "250/250 [==============================] - 2s 8ms/step - loss: 133891.7188 - mse: 133891.7188 - val_loss: 172551.5625 - val_mse: 172551.5625\n",
            "Epoch 24/100\n",
            "250/250 [==============================] - 2s 7ms/step - loss: 128925.2031 - mse: 128925.2031 - val_loss: 82981.3047 - val_mse: 82981.3047\n",
            "Epoch 25/100\n",
            "250/250 [==============================] - 2s 7ms/step - loss: 128887.9141 - mse: 128887.9141 - val_loss: 29021.9434 - val_mse: 29021.9434\n",
            "Epoch 26/100\n",
            "250/250 [==============================] - 2s 7ms/step - loss: 132044.5625 - mse: 132044.5625 - val_loss: 113315.3125 - val_mse: 113315.3125\n",
            "Epoch 27/100\n",
            "250/250 [==============================] - 2s 7ms/step - loss: 127253.4844 - mse: 127253.4844 - val_loss: 53287.6797 - val_mse: 53287.6797\n",
            "Epoch 28/100\n",
            "250/250 [==============================] - 2s 7ms/step - loss: 135688.2188 - mse: 135688.2188 - val_loss: 96793.2891 - val_mse: 96793.2891\n",
            "Epoch 29/100\n",
            "250/250 [==============================] - 2s 7ms/step - loss: 141814.1875 - mse: 141814.1875 - val_loss: 197903.8125 - val_mse: 197903.8125\n",
            "Epoch 30/100\n",
            "250/250 [==============================] - 2s 8ms/step - loss: 139703.6562 - mse: 139703.6562 - val_loss: 191505.3906 - val_mse: 191505.3906\n",
            "Epoch 31/100\n",
            "250/250 [==============================] - 2s 7ms/step - loss: 125860.4766 - mse: 125860.4766 - val_loss: 119158.5156 - val_mse: 119158.5156\n",
            "Epoch 32/100\n",
            "250/250 [==============================] - 2s 8ms/step - loss: 148853.5312 - mse: 148853.5312 - val_loss: 198924.9062 - val_mse: 198924.9062\n",
            "Epoch 33/100\n",
            "250/250 [==============================] - 2s 8ms/step - loss: 127810.1406 - mse: 127810.1406 - val_loss: 149737.5156 - val_mse: 149737.5156\n",
            "Epoch 34/100\n",
            "250/250 [==============================] - 2s 7ms/step - loss: 135913.7812 - mse: 135913.7812 - val_loss: 175574.2656 - val_mse: 175574.2656\n",
            "Epoch 35/100\n",
            "250/250 [==============================] - 2s 7ms/step - loss: 147913.1094 - mse: 147913.1094 - val_loss: 164250.2969 - val_mse: 164250.2969\n",
            "Epoch 36/100\n",
            "250/250 [==============================] - 2s 7ms/step - loss: 134089.5781 - mse: 134089.5781 - val_loss: 226387.6875 - val_mse: 226387.6875\n",
            "Epoch 37/100\n",
            "250/250 [==============================] - 2s 8ms/step - loss: 131348.1406 - mse: 131348.1406 - val_loss: 252892.9531 - val_mse: 252892.9531\n",
            "Epoch 38/100\n",
            "250/250 [==============================] - 2s 8ms/step - loss: 135239.6250 - mse: 135239.6250 - val_loss: 181715.8750 - val_mse: 181715.8750\n",
            "Epoch 39/100\n",
            "250/250 [==============================] - 2s 7ms/step - loss: 116167.8281 - mse: 116167.8281 - val_loss: 174836.6094 - val_mse: 174836.6094\n",
            "Epoch 40/100\n",
            "250/250 [==============================] - 2s 7ms/step - loss: 138337.5000 - mse: 138337.5000 - val_loss: 141661.9062 - val_mse: 141661.9062\n",
            "Epoch 41/100\n",
            "250/250 [==============================] - 2s 7ms/step - loss: 131902.0938 - mse: 131902.0938 - val_loss: 237760.7969 - val_mse: 237760.7969\n",
            "Epoch 42/100\n",
            "250/250 [==============================] - 2s 7ms/step - loss: 124555.3047 - mse: 124555.3047 - val_loss: 180136.8281 - val_mse: 180136.8281\n",
            "Epoch 43/100\n",
            "250/250 [==============================] - 2s 7ms/step - loss: 127604.3984 - mse: 127604.3984 - val_loss: 235739.4688 - val_mse: 235739.4688\n",
            "Epoch 44/100\n",
            "250/250 [==============================] - 2s 7ms/step - loss: 132260.5312 - mse: 132260.5312 - val_loss: 105882.8281 - val_mse: 105882.8281\n",
            "Epoch 45/100\n",
            "250/250 [==============================] - 2s 7ms/step - loss: 136310.6094 - mse: 136310.6094 - val_loss: 58644.9336 - val_mse: 58644.9336\n",
            "Epoch 46/100\n",
            "250/250 [==============================] - 2s 8ms/step - loss: 131600.8594 - mse: 131600.8594 - val_loss: 77726.3594 - val_mse: 77726.3594\n",
            "Epoch 47/100\n",
            "250/250 [==============================] - 2s 7ms/step - loss: 128442.7734 - mse: 128442.7734 - val_loss: 131779.5781 - val_mse: 131779.5781\n",
            "Epoch 48/100\n",
            "250/250 [==============================] - 2s 8ms/step - loss: 134939.6562 - mse: 134939.6562 - val_loss: 123422.9844 - val_mse: 123422.9844\n",
            "Epoch 49/100\n",
            "250/250 [==============================] - 2s 7ms/step - loss: 139689.1562 - mse: 139689.1562 - val_loss: 111625.0391 - val_mse: 111625.0391\n",
            "Epoch 50/100\n",
            "250/250 [==============================] - 2s 7ms/step - loss: 132471.8594 - mse: 132471.8594 - val_loss: 59056.0977 - val_mse: 59056.0977\n",
            "Epoch 51/100\n",
            "250/250 [==============================] - 2s 7ms/step - loss: 139985.2344 - mse: 139985.2344 - val_loss: 110458.1406 - val_mse: 110458.1406\n",
            "Epoch 52/100\n",
            "250/250 [==============================] - 2s 7ms/step - loss: 159899.9375 - mse: 159899.9375 - val_loss: 84593.3125 - val_mse: 84593.3125\n",
            "Epoch 53/100\n",
            "250/250 [==============================] - 2s 7ms/step - loss: 145663.0312 - mse: 145663.0312 - val_loss: 214036.6406 - val_mse: 214036.6406\n",
            "Epoch 54/100\n",
            "250/250 [==============================] - 2s 7ms/step - loss: 126221.5938 - mse: 126221.5938 - val_loss: 153509.5156 - val_mse: 153509.5156\n",
            "Epoch 55/100\n",
            "250/250 [==============================] - 2s 7ms/step - loss: 130494.8281 - mse: 130494.8281 - val_loss: 105803.1406 - val_mse: 105803.1406\n",
            "Epoch 56/100\n",
            "250/250 [==============================] - 2s 7ms/step - loss: 129316.2891 - mse: 129316.2891 - val_loss: 78415.7344 - val_mse: 78415.7344\n",
            "Epoch 57/100\n",
            "250/250 [==============================] - 2s 7ms/step - loss: 136220.9219 - mse: 136220.9219 - val_loss: 95870.4766 - val_mse: 95870.4766\n",
            "Epoch 58/100\n",
            "250/250 [==============================] - 2s 8ms/step - loss: 137129.8750 - mse: 137129.8750 - val_loss: 133986.1250 - val_mse: 133986.1250\n",
            "Epoch 59/100\n",
            "250/250 [==============================] - 2s 8ms/step - loss: 119565.0156 - mse: 119565.0156 - val_loss: 142115.1875 - val_mse: 142115.1875\n",
            "Epoch 60/100\n",
            "250/250 [==============================] - 2s 7ms/step - loss: 149044.7812 - mse: 149044.7812 - val_loss: 94762.1094 - val_mse: 94762.1094\n",
            "Epoch 61/100\n",
            "250/250 [==============================] - 2s 7ms/step - loss: 133662.9531 - mse: 133662.9531 - val_loss: 635521.1875 - val_mse: 635521.1875\n",
            "Epoch 62/100\n",
            "250/250 [==============================] - 2s 7ms/step - loss: 135135.3906 - mse: 135135.3906 - val_loss: 380724.7812 - val_mse: 380724.7812\n",
            "Epoch 63/100\n",
            "250/250 [==============================] - 2s 7ms/step - loss: 152695.5312 - mse: 152695.5312 - val_loss: 431632.0000 - val_mse: 431632.0000\n",
            "Epoch 64/100\n",
            "250/250 [==============================] - 2s 7ms/step - loss: 116955.3984 - mse: 116955.3984 - val_loss: 511392.0625 - val_mse: 511392.0625\n",
            "Epoch 65/100\n",
            "250/250 [==============================] - 2s 7ms/step - loss: 124118.2656 - mse: 124118.2656 - val_loss: 291592.0000 - val_mse: 291592.0000\n",
            "Epoch 66/100\n",
            "250/250 [==============================] - 2s 7ms/step - loss: 132791.7344 - mse: 132791.7344 - val_loss: 250108.0156 - val_mse: 250108.0156\n",
            "Epoch 67/100\n",
            "250/250 [==============================] - 2s 7ms/step - loss: 143215.0938 - mse: 143215.0938 - val_loss: 307678.4688 - val_mse: 307678.4688\n",
            "Epoch 68/100\n",
            "250/250 [==============================] - 2s 7ms/step - loss: 129491.8047 - mse: 129491.8047 - val_loss: 215060.4062 - val_mse: 215060.4062\n",
            "Epoch 69/100\n",
            "250/250 [==============================] - 2s 7ms/step - loss: 129756.9609 - mse: 129756.9609 - val_loss: 1456508.6250 - val_mse: 1456508.6250\n",
            "Epoch 70/100\n",
            "250/250 [==============================] - 2s 8ms/step - loss: 142015.0781 - mse: 142015.0781 - val_loss: 402776.0938 - val_mse: 402776.0938\n",
            "Epoch 71/100\n",
            "250/250 [==============================] - 2s 7ms/step - loss: 128100.8047 - mse: 128100.8047 - val_loss: 359281.4062 - val_mse: 359281.4062\n",
            "Epoch 72/100\n",
            "250/250 [==============================] - 2s 7ms/step - loss: 140693.1250 - mse: 140693.1250 - val_loss: 90557.5859 - val_mse: 90557.5859\n",
            "Epoch 73/100\n",
            "250/250 [==============================] - 2s 7ms/step - loss: 124148.3281 - mse: 124148.3281 - val_loss: 58693.9023 - val_mse: 58693.9023\n",
            "Epoch 74/100\n",
            "250/250 [==============================] - 2s 7ms/step - loss: 124453.0000 - mse: 124453.0000 - val_loss: 492708.7812 - val_mse: 492708.7812\n",
            "Epoch 75/100\n",
            "250/250 [==============================] - 2s 7ms/step - loss: 135918.4375 - mse: 135918.4375 - val_loss: 309419.8438 - val_mse: 309419.8438\n",
            "Epoch 76/100\n",
            "250/250 [==============================] - 2s 7ms/step - loss: 145280.7188 - mse: 145280.7188 - val_loss: 160801.4219 - val_mse: 160801.4219\n",
            "Epoch 77/100\n",
            "250/250 [==============================] - 2s 7ms/step - loss: 144362.6719 - mse: 144362.6719 - val_loss: 179796.9531 - val_mse: 179796.9531\n",
            "Epoch 78/100\n",
            "250/250 [==============================] - 2s 8ms/step - loss: 131711.0000 - mse: 131711.0000 - val_loss: 32559.8965 - val_mse: 32559.8965\n",
            "Epoch 79/100\n",
            "250/250 [==============================] - 2s 8ms/step - loss: 128553.9219 - mse: 128553.9219 - val_loss: 38200.1250 - val_mse: 38200.1250\n",
            "Epoch 80/100\n",
            "250/250 [==============================] - 2s 8ms/step - loss: 118116.1484 - mse: 118116.1484 - val_loss: 31760.9609 - val_mse: 31760.9609\n",
            "Epoch 81/100\n",
            "250/250 [==============================] - 2s 7ms/step - loss: 134940.5469 - mse: 134940.5469 - val_loss: 96890.9766 - val_mse: 96890.9766\n",
            "Epoch 82/100\n",
            "250/250 [==============================] - 2s 8ms/step - loss: 119709.9062 - mse: 119709.9062 - val_loss: 156240.1406 - val_mse: 156240.1406\n",
            "Epoch 83/100\n",
            "250/250 [==============================] - 2s 7ms/step - loss: 118467.9766 - mse: 118467.9766 - val_loss: 266328.9375 - val_mse: 266328.9375\n",
            "Epoch 84/100\n",
            "250/250 [==============================] - 2s 7ms/step - loss: 129280.5078 - mse: 129280.5078 - val_loss: 450871.5938 - val_mse: 450871.5938\n",
            "Epoch 85/100\n",
            "250/250 [==============================] - 2s 7ms/step - loss: 139869.7188 - mse: 139869.7188 - val_loss: 1455322.6250 - val_mse: 1455322.6250\n",
            "Epoch 86/100\n",
            "250/250 [==============================] - 2s 7ms/step - loss: 132820.7969 - mse: 132820.7969 - val_loss: 408501.5938 - val_mse: 408501.5938\n",
            "Epoch 87/100\n",
            "250/250 [==============================] - 2s 7ms/step - loss: 124275.4531 - mse: 124275.4531 - val_loss: 515246.0312 - val_mse: 515246.0312\n",
            "Epoch 88/100\n",
            "250/250 [==============================] - 2s 7ms/step - loss: 136614.4688 - mse: 136614.4688 - val_loss: 903021.3125 - val_mse: 903021.3125\n",
            "Epoch 89/100\n",
            "250/250 [==============================] - 2s 7ms/step - loss: 135873.4219 - mse: 135873.4219 - val_loss: 610614.5625 - val_mse: 610614.5625\n",
            "Epoch 90/100\n",
            "250/250 [==============================] - 2s 7ms/step - loss: 136554.0469 - mse: 136554.0469 - val_loss: 390138.4375 - val_mse: 390138.4375\n",
            "Epoch 91/100\n",
            "250/250 [==============================] - 2s 7ms/step - loss: 125362.6094 - mse: 125362.6094 - val_loss: 583142.4375 - val_mse: 583142.4375\n",
            "Epoch 92/100\n",
            "250/250 [==============================] - 2s 7ms/step - loss: 129637.0312 - mse: 129637.0312 - val_loss: 386716.7812 - val_mse: 386716.7812\n",
            "Epoch 93/100\n",
            "250/250 [==============================] - 2s 8ms/step - loss: 115447.2188 - mse: 115447.2188 - val_loss: 778140.2500 - val_mse: 778140.2500\n",
            "Epoch 94/100\n",
            "250/250 [==============================] - 2s 7ms/step - loss: 132062.2812 - mse: 132062.2812 - val_loss: 261307.5781 - val_mse: 261307.5781\n",
            "Epoch 95/100\n",
            "250/250 [==============================] - 2s 7ms/step - loss: 137191.6250 - mse: 137191.6250 - val_loss: 348614.3125 - val_mse: 348614.3125\n",
            "Epoch 96/100\n",
            "250/250 [==============================] - 2s 8ms/step - loss: 129578.5625 - mse: 129578.5625 - val_loss: 184054.5781 - val_mse: 184054.5781\n",
            "Epoch 97/100\n",
            "250/250 [==============================] - 2s 8ms/step - loss: 129954.0625 - mse: 129954.0625 - val_loss: 117091.3672 - val_mse: 117091.3672\n",
            "Epoch 98/100\n",
            "250/250 [==============================] - 2s 7ms/step - loss: 139446.4219 - mse: 139446.4219 - val_loss: 210648.8125 - val_mse: 210648.8125\n",
            "Epoch 99/100\n",
            "250/250 [==============================] - 2s 8ms/step - loss: 133743.5781 - mse: 133743.5781 - val_loss: 89752.0625 - val_mse: 89752.0625\n",
            "Epoch 100/100\n",
            "250/250 [==============================] - 2s 7ms/step - loss: 116946.1484 - mse: 116946.1484 - val_loss: 130229.2656 - val_mse: 130229.2656\n"
          ]
        },
        {
          "output_type": "execute_result",
          "data": {
            "text/plain": [
              "<keras.callbacks.History at 0x7f7ba5e0a190>"
            ]
          },
          "metadata": {},
          "execution_count": 53
        }
      ]
    },
    {
      "cell_type": "code",
      "metadata": {
        "id": "YU04RcojfDec"
      },
      "source": [
        "test = np.array([[1, 1]])"
      ],
      "execution_count": null,
      "outputs": []
    },
    {
      "cell_type": "code",
      "metadata": {
        "colab": {
          "base_uri": "https://localhost:8080/"
        },
        "id": "3WlIGhA3e7L9",
        "outputId": "c643fb78-df70-446f-df8c-3c4c113232b7"
      },
      "source": [
        "model.predict(test)"
      ],
      "execution_count": null,
      "outputs": [
        {
          "output_type": "execute_result",
          "data": {
            "text/plain": [
              "array([[182.37843]], dtype=float32)"
            ]
          },
          "metadata": {},
          "execution_count": 63
        }
      ]
    }
  ]
}