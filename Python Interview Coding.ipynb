{
  "nbformat": 4,
  "nbformat_minor": 0,
  "metadata": {
    "accelerator": "TPU",
    "colab": {
      "name": "Python-Interview-Coding.ipynb",
      "provenance": [],
      "collapsed_sections": [],
      "toc_visible": true,
      "authorship_tag": "ABX9TyM8IgAD6xhuvfzMNCLqfvUB",
      "include_colab_link": true
    },
    "kernelspec": {
      "display_name": "Python 3",
      "name": "python3"
    },
    "language_info": {
      "name": "python"
    }
  },
  "cells": [
    {
      "cell_type": "markdown",
      "metadata": {
        "id": "view-in-github",
        "colab_type": "text"
      },
      "source": [
        "<a href=\"https://colab.research.google.com/github/Satwikram/Python-Interview/blob/main/Python%20Interview%20Coding.ipynb\" target=\"_parent\"><img src=\"https://colab.research.google.com/assets/colab-badge.svg\" alt=\"Open In Colab\"/></a>"
      ]
    },
    {
      "cell_type": "code",
      "metadata": {
        "colab": {
          "base_uri": "https://localhost:8080/"
        },
        "id": "RcVQFxCHiJlz",
        "outputId": "bb6f9bb5-1492-42f0-ed41-49f744324950"
      },
      "source": [
        "thislist = [\"apple\", \"banana\", \"cherry\"]\n",
        "print(thislist[::-1])"
      ],
      "execution_count": null,
      "outputs": [
        {
          "output_type": "stream",
          "text": [
            "['cherry', 'banana', 'apple']\n"
          ],
          "name": "stdout"
        }
      ]
    },
    {
      "cell_type": "markdown",
      "metadata": {
        "id": "YyYgKS4k1HYk"
      },
      "source": [
        "### List Operations"
      ]
    },
    {
      "cell_type": "markdown",
      "metadata": {
        "id": "HweuEqZm1K77"
      },
      "source": [
        "#### Append"
      ]
    },
    {
      "cell_type": "code",
      "metadata": {
        "id": "l-pM_JJuiQUe"
      },
      "source": [
        "x = [1,2,3]"
      ],
      "execution_count": null,
      "outputs": []
    },
    {
      "cell_type": "code",
      "metadata": {
        "colab": {
          "base_uri": "https://localhost:8080/"
        },
        "id": "d76sXcM20N6x",
        "outputId": "a4f8c41f-54f9-42aa-b6f4-91870132be34"
      },
      "source": [
        "x.append(4)\n",
        "x"
      ],
      "execution_count": null,
      "outputs": [
        {
          "output_type": "execute_result",
          "data": {
            "text/plain": [
              "[1, 2, 3, 4]"
            ]
          },
          "metadata": {
            "tags": []
          },
          "execution_count": 6
        }
      ]
    },
    {
      "cell_type": "markdown",
      "metadata": {
        "id": "8vvgFS2n1N7C"
      },
      "source": [
        "#### Clear"
      ]
    },
    {
      "cell_type": "code",
      "metadata": {
        "colab": {
          "base_uri": "https://localhost:8080/"
        },
        "id": "0I5u2ZP-0QAX",
        "outputId": "31fc4662-d157-47f9-944f-eacc6d99ee05"
      },
      "source": [
        "x.clear()\n",
        "x"
      ],
      "execution_count": null,
      "outputs": [
        {
          "output_type": "execute_result",
          "data": {
            "text/plain": [
              "[]"
            ]
          },
          "metadata": {
            "tags": []
          },
          "execution_count": 7
        }
      ]
    },
    {
      "cell_type": "markdown",
      "metadata": {
        "id": "Xd6oELK61QHi"
      },
      "source": [
        "#### Copy"
      ]
    },
    {
      "cell_type": "code",
      "metadata": {
        "id": "rsEOBvLZ0SUp"
      },
      "source": [
        "x = [1,2,3]\n",
        "y = x.copy()"
      ],
      "execution_count": null,
      "outputs": []
    },
    {
      "cell_type": "code",
      "metadata": {
        "colab": {
          "base_uri": "https://localhost:8080/"
        },
        "id": "LpGDhdN80Xp_",
        "outputId": "02e18e19-54d8-49e9-ef2b-7be75ea14ae4"
      },
      "source": [
        "y"
      ],
      "execution_count": null,
      "outputs": [
        {
          "output_type": "execute_result",
          "data": {
            "text/plain": [
              "[1, 2, 3]"
            ]
          },
          "metadata": {
            "tags": []
          },
          "execution_count": 9
        }
      ]
    },
    {
      "cell_type": "markdown",
      "metadata": {
        "id": "lLNzzBVQ1SA0"
      },
      "source": [
        "#### Count"
      ]
    },
    {
      "cell_type": "code",
      "metadata": {
        "colab": {
          "base_uri": "https://localhost:8080/"
        },
        "id": "rgYH08s80YTs",
        "outputId": "f7130509-a8ba-4800-c4f6-47949197abe2"
      },
      "source": [
        "x.count(3)"
      ],
      "execution_count": null,
      "outputs": [
        {
          "output_type": "execute_result",
          "data": {
            "text/plain": [
              "1"
            ]
          },
          "metadata": {
            "tags": []
          },
          "execution_count": 12
        }
      ]
    },
    {
      "cell_type": "markdown",
      "metadata": {
        "id": "QsVDcsVN1Tsw"
      },
      "source": [
        "#### Extend"
      ]
    },
    {
      "cell_type": "code",
      "metadata": {
        "id": "6woayqN00auw"
      },
      "source": [
        "x.extend(y)"
      ],
      "execution_count": null,
      "outputs": []
    },
    {
      "cell_type": "code",
      "metadata": {
        "colab": {
          "base_uri": "https://localhost:8080/"
        },
        "id": "Tiow8CdH0mU7",
        "outputId": "19b458d8-4c87-4d1a-9dcb-482003cb32e1"
      },
      "source": [
        "x"
      ],
      "execution_count": null,
      "outputs": [
        {
          "output_type": "execute_result",
          "data": {
            "text/plain": [
              "[1, 2, 3, 1, 2, 3]"
            ]
          },
          "metadata": {
            "tags": []
          },
          "execution_count": 14
        }
      ]
    },
    {
      "cell_type": "markdown",
      "metadata": {
        "id": "IvYNcotb1WJO"
      },
      "source": [
        "#### Index"
      ]
    },
    {
      "cell_type": "code",
      "metadata": {
        "colab": {
          "base_uri": "https://localhost:8080/"
        },
        "id": "t0d1ibme0nX5",
        "outputId": "79ff4675-717b-4ecf-fde9-731e97eddfb0"
      },
      "source": [
        "x.index(1)"
      ],
      "execution_count": null,
      "outputs": [
        {
          "output_type": "execute_result",
          "data": {
            "text/plain": [
              "0"
            ]
          },
          "metadata": {
            "tags": []
          },
          "execution_count": 15
        }
      ]
    },
    {
      "cell_type": "markdown",
      "metadata": {
        "id": "gwM1L7tc1XzI"
      },
      "source": [
        "#### Pop"
      ]
    },
    {
      "cell_type": "code",
      "metadata": {
        "colab": {
          "base_uri": "https://localhost:8080/"
        },
        "id": "7AXpUNE30qqV",
        "outputId": "3bdb84ed-4aad-41a2-de17-fc64d25b4b44"
      },
      "source": [
        "x.pop(2)"
      ],
      "execution_count": null,
      "outputs": [
        {
          "output_type": "execute_result",
          "data": {
            "text/plain": [
              "3"
            ]
          },
          "metadata": {
            "tags": []
          },
          "execution_count": 16
        }
      ]
    },
    {
      "cell_type": "code",
      "metadata": {
        "colab": {
          "base_uri": "https://localhost:8080/"
        },
        "id": "hwv4xVBs0vJA",
        "outputId": "d7ded080-e955-4cde-906e-c6053d80f5a6"
      },
      "source": [
        "x"
      ],
      "execution_count": null,
      "outputs": [
        {
          "output_type": "execute_result",
          "data": {
            "text/plain": [
              "[1, 2, 1, 2, 3]"
            ]
          },
          "metadata": {
            "tags": []
          },
          "execution_count": 17
        }
      ]
    },
    {
      "cell_type": "markdown",
      "metadata": {
        "id": "uNtXBiVj1ZsJ"
      },
      "source": [
        "#### Remove"
      ]
    },
    {
      "cell_type": "code",
      "metadata": {
        "colab": {
          "base_uri": "https://localhost:8080/"
        },
        "id": "vWRDwLjv0w6n",
        "outputId": "84c7c445-5a98-4d78-d2f9-b20a9b2350c9"
      },
      "source": [
        "x.remove(1)\n",
        "x"
      ],
      "execution_count": null,
      "outputs": [
        {
          "output_type": "execute_result",
          "data": {
            "text/plain": [
              "[2, 1, 2, 3]"
            ]
          },
          "metadata": {
            "tags": []
          },
          "execution_count": 20
        }
      ]
    },
    {
      "cell_type": "markdown",
      "metadata": {
        "id": "qD_PlYPs1bfe"
      },
      "source": [
        "#### Reverse"
      ]
    },
    {
      "cell_type": "code",
      "metadata": {
        "id": "4Z8bODEj03gz"
      },
      "source": [
        "x.reverse()"
      ],
      "execution_count": null,
      "outputs": []
    },
    {
      "cell_type": "code",
      "metadata": {
        "colab": {
          "base_uri": "https://localhost:8080/"
        },
        "id": "s-GWNvcf0-lE",
        "outputId": "6f8aac48-54ba-4894-a3b9-c9fbdfe195c7"
      },
      "source": [
        "x"
      ],
      "execution_count": null,
      "outputs": [
        {
          "output_type": "execute_result",
          "data": {
            "text/plain": [
              "[3, 2, 1, 2]"
            ]
          },
          "metadata": {
            "tags": []
          },
          "execution_count": 23
        }
      ]
    },
    {
      "cell_type": "markdown",
      "metadata": {
        "id": "JHOoYeS-1fuY"
      },
      "source": [
        "#### Sort"
      ]
    },
    {
      "cell_type": "code",
      "metadata": {
        "colab": {
          "base_uri": "https://localhost:8080/"
        },
        "id": "VQNrL_LM1B2j",
        "outputId": "314188d2-22ce-4384-ab11-b418e71f36b2"
      },
      "source": [
        "x.sort()\n",
        "x"
      ],
      "execution_count": null,
      "outputs": [
        {
          "output_type": "execute_result",
          "data": {
            "text/plain": [
              "[1, 2, 2, 3]"
            ]
          },
          "metadata": {
            "tags": []
          },
          "execution_count": 24
        }
      ]
    },
    {
      "cell_type": "markdown",
      "metadata": {
        "id": "WPlFI53210pd"
      },
      "source": [
        "### String Operations"
      ]
    },
    {
      "cell_type": "markdown",
      "metadata": {
        "id": "CdZgj6Nc7MqT"
      },
      "source": [
        "capitalize()\tConverts the first character to upper case\n",
        "\n",
        "casefold()\tConverts string into lower case\n",
        "\n",
        "center()\tReturns a centered string\n",
        "count()\tReturns the number of times a specified value occurs in a string\n",
        "\n",
        "encode()\tReturns an encoded version of the string\n",
        "\n",
        "endswith()\tReturns true if the string ends with the specified value\n",
        "\n",
        "expandtabs()\tSets the tab size of the string\n",
        "\n",
        "find()\tSearches the string for a specified value and returns the position of where it was found\n",
        "\n",
        "format()\tFormats specified values in a string\n",
        "\n",
        "format_map()\tFormats specified values in a string\n",
        "\n",
        "index()\tSearches the string for a specified value and returns the position of where it was found\n",
        "\n",
        "isalnum()\tReturns True if all characters in the string are alphanumeric\n",
        "\n",
        "isalpha()\tReturns True if all characters in the string are in the alphabet\n",
        "\n",
        "isdecimal()\tReturns True if all characters in the string are decimals\n",
        "\n",
        "isdigit()\tReturns True if all characters in the string are digits\n",
        "\n",
        "isidentifier()\tReturns True if the string is an identifier\n",
        "\n",
        "islower()\tReturns True if all characters in the string are lower case\n",
        "\n",
        "isnumeric()\tReturns True if all characters in the string are numeric\n",
        "\n",
        "isprintable()\tReturns True if all characters in the string are printable\n",
        "\n",
        "isspace()\tReturns True if all characters in the string are whitespaces\n",
        "\n",
        "istitle()\tReturns True if the string follows the rules of a title\n",
        "\n",
        "isupper()\tReturns True if all characters in the string are upper case\n",
        "\n",
        "join()\tJoins the elements of an iterable to the end of the string\n",
        "\n",
        "ljust()\tReturns a left justified version of the string\n",
        "\n",
        "lower()\tConverts a string into lower case\n",
        "\n",
        "lstrip()\tReturns a left trim version of the string\n",
        "\n",
        "maketrans()\tReturns a translation table to be used in translations\n",
        "\n",
        "partition()\tReturns a tuple where the string is parted into three parts\n",
        "\n",
        "replace()\tReturns a string where a specified value is replaced with a specified value\n",
        "\n",
        "rfind()\tSearches the string for a specified value and returns the last position of where it was found\n",
        "\n",
        "rindex()\tSearches the string for a specified value and returns the last position of where it was found\n",
        "\n",
        "rjust()\tReturns a right justified version of the string\n",
        "\n",
        "rpartition()\tReturns a tuple where the string is parted into three parts\n",
        "\n",
        "rsplit()\tSplits the string at the specified separator, and returns a list\n",
        "\n",
        "rstrip()\tReturns a right trim version of the string\n",
        "split()\tSplits the string at the specified separator, and returns a list\n",
        "\n",
        "splitlines()\tSplits the string at line breaks and returns a list\n",
        "\n",
        "startswith()\tReturns true if the string starts with the specified value\n",
        "\n",
        "strip()\tReturns a trimmed version of the string\n",
        "\n",
        "swapcase()\tSwaps cases, lower case becomes upper case and vice versa\n",
        "\n",
        "title()\tConverts the first character of each word to upper case\n",
        "\n",
        "translate()\tReturns a translated string\n",
        "\n",
        "upper()\tConverts a string into upper case\n",
        "\n",
        "zfill()\tFills the string with a specified number of 0 values at the beginning\n",
        "\n",
        "Note: All string methods returns new values. They do not change the original string."
      ]
    },
    {
      "cell_type": "code",
      "metadata": {
        "id": "16JUiH-X1Epq"
      },
      "source": [
        "s = \"satwik\""
      ],
      "execution_count": null,
      "outputs": []
    },
    {
      "cell_type": "markdown",
      "metadata": {
        "id": "hHFDBfdl2Nuf"
      },
      "source": [
        "#### capitalize()\tConverts the first character to upper case"
      ]
    },
    {
      "cell_type": "code",
      "metadata": {
        "colab": {
          "base_uri": "https://localhost:8080/",
          "height": 35
        },
        "id": "ILyI2MDd2MXJ",
        "outputId": "48c49c5b-3a6a-4776-8bb8-3b6910c45878"
      },
      "source": [
        "s.capitalize()"
      ],
      "execution_count": null,
      "outputs": [
        {
          "output_type": "execute_result",
          "data": {
            "application/vnd.google.colaboratory.intrinsic+json": {
              "type": "string"
            },
            "text/plain": [
              "'Satwik'"
            ]
          },
          "metadata": {
            "tags": []
          },
          "execution_count": 2
        }
      ]
    },
    {
      "cell_type": "code",
      "metadata": {
        "colab": {
          "base_uri": "https://localhost:8080/",
          "height": 35
        },
        "id": "os9ohbD12Qeq",
        "outputId": "5d39506e-2751-42b3-8ac3-72666b00df5a"
      },
      "source": [
        "s"
      ],
      "execution_count": null,
      "outputs": [
        {
          "output_type": "execute_result",
          "data": {
            "application/vnd.google.colaboratory.intrinsic+json": {
              "type": "string"
            },
            "text/plain": [
              "'satwik'"
            ]
          },
          "metadata": {
            "tags": []
          },
          "execution_count": 3
        }
      ]
    },
    {
      "cell_type": "markdown",
      "metadata": {
        "id": "aLN4fbnE2Vk3"
      },
      "source": [
        "#### casefold()\tConverts string into lower case"
      ]
    },
    {
      "cell_type": "code",
      "metadata": {
        "colab": {
          "base_uri": "https://localhost:8080/",
          "height": 35
        },
        "id": "BbvPuHLu2R_h",
        "outputId": "d711da3c-cea1-4fef-91bb-277b5e6e42b4"
      },
      "source": [
        "s = s.capitalize()\n",
        "s"
      ],
      "execution_count": null,
      "outputs": [
        {
          "output_type": "execute_result",
          "data": {
            "application/vnd.google.colaboratory.intrinsic+json": {
              "type": "string"
            },
            "text/plain": [
              "'Satwik'"
            ]
          },
          "metadata": {
            "tags": []
          },
          "execution_count": 4
        }
      ]
    },
    {
      "cell_type": "code",
      "metadata": {
        "colab": {
          "base_uri": "https://localhost:8080/",
          "height": 35
        },
        "id": "AzRsvSzO2bdi",
        "outputId": "1ac396e2-258e-44a2-e776-052a961f76aa"
      },
      "source": [
        "s.casefold()"
      ],
      "execution_count": null,
      "outputs": [
        {
          "output_type": "execute_result",
          "data": {
            "application/vnd.google.colaboratory.intrinsic+json": {
              "type": "string"
            },
            "text/plain": [
              "'satwik'"
            ]
          },
          "metadata": {
            "tags": []
          },
          "execution_count": 5
        }
      ]
    },
    {
      "cell_type": "markdown",
      "metadata": {
        "id": "sTBk59jG2iuY"
      },
      "source": [
        "#### center()\tReturns a centered string"
      ]
    },
    {
      "cell_type": "code",
      "metadata": {
        "id": "ziaBMkdN37yk"
      },
      "source": [
        "s = \"satwik ram k\""
      ],
      "execution_count": null,
      "outputs": []
    },
    {
      "cell_type": "code",
      "metadata": {
        "colab": {
          "base_uri": "https://localhost:8080/",
          "height": 35
        },
        "id": "3Sqphb5J2e-5",
        "outputId": "a0c97149-ad4e-40bf-d356-66d25a4b2bc1"
      },
      "source": [
        "s.center(20, \"O\")"
      ],
      "execution_count": null,
      "outputs": [
        {
          "output_type": "execute_result",
          "data": {
            "application/vnd.google.colaboratory.intrinsic+json": {
              "type": "string"
            },
            "text/plain": [
              "'OOOOsatwik ram kOOOO'"
            ]
          },
          "metadata": {
            "tags": []
          },
          "execution_count": 7
        }
      ]
    },
    {
      "cell_type": "markdown",
      "metadata": {
        "id": "yq8qlvz64Reg"
      },
      "source": [
        "####count()\tReturns the number of times a specified value occurs in a string"
      ]
    },
    {
      "cell_type": "code",
      "metadata": {
        "colab": {
          "base_uri": "https://localhost:8080/"
        },
        "id": "ie4-Yuzn3Thi",
        "outputId": "6f12c1c6-9aa8-4f0f-d9f7-87c700e3ea03"
      },
      "source": [
        "s.count(\"a\")"
      ],
      "execution_count": null,
      "outputs": [
        {
          "output_type": "execute_result",
          "data": {
            "text/plain": [
              "2"
            ]
          },
          "metadata": {
            "tags": []
          },
          "execution_count": 8
        }
      ]
    },
    {
      "cell_type": "markdown",
      "metadata": {
        "id": "xf470ere52M1"
      },
      "source": [
        "####encode()\tReturns an encoded version of the string"
      ]
    },
    {
      "cell_type": "code",
      "metadata": {
        "colab": {
          "base_uri": "https://localhost:8080/"
        },
        "id": "vCqAFGR65ycj",
        "outputId": "278f798f-6cbd-412f-d4f4-6cb6354d4387"
      },
      "source": [
        "print(s.encode())"
      ],
      "execution_count": null,
      "outputs": [
        {
          "output_type": "stream",
          "text": [
            "b'satwik ram k'\n"
          ],
          "name": "stdout"
        }
      ]
    },
    {
      "cell_type": "markdown",
      "metadata": {
        "id": "ZJ1Lds5862AU"
      },
      "source": [
        "####endswith()\tReturns true if the string ends with the specified value"
      ]
    },
    {
      "cell_type": "code",
      "metadata": {
        "colab": {
          "base_uri": "https://localhost:8080/"
        },
        "id": "gIbh0bIq54SZ",
        "outputId": "373ee596-7bcc-4035-a4a5-3cb9df0f403f"
      },
      "source": [
        "s.endswith(\"a\")"
      ],
      "execution_count": null,
      "outputs": [
        {
          "output_type": "execute_result",
          "data": {
            "text/plain": [
              "False"
            ]
          },
          "metadata": {
            "tags": []
          },
          "execution_count": 10
        }
      ]
    },
    {
      "cell_type": "markdown",
      "metadata": {
        "id": "SS5ktkimRV8E"
      },
      "source": [
        "#### isupper()\tReturns True if all characters in the string are upper case"
      ]
    },
    {
      "cell_type": "code",
      "metadata": {
        "colab": {
          "base_uri": "https://localhost:8080/"
        },
        "id": "QkoTK5Yy66Vo",
        "outputId": "2caf5599-f60a-44e8-9658-264ec379bb05"
      },
      "source": [
        "s.isupper()"
      ],
      "execution_count": null,
      "outputs": [
        {
          "output_type": "execute_result",
          "data": {
            "text/plain": [
              "False"
            ]
          },
          "metadata": {
            "tags": []
          },
          "execution_count": 11
        }
      ]
    },
    {
      "cell_type": "markdown",
      "metadata": {
        "id": "boMZyQeJRfCO"
      },
      "source": [
        "#### islower()\tReturns True if all characters in the string are lower case"
      ]
    },
    {
      "cell_type": "code",
      "metadata": {
        "colab": {
          "base_uri": "https://localhost:8080/"
        },
        "id": "A-mFLs-TRbig",
        "outputId": "472779e0-8720-4064-a9e9-ccc076052387"
      },
      "source": [
        "s.islower()"
      ],
      "execution_count": null,
      "outputs": [
        {
          "output_type": "execute_result",
          "data": {
            "text/plain": [
              "True"
            ]
          },
          "metadata": {
            "tags": []
          },
          "execution_count": 12
        }
      ]
    },
    {
      "cell_type": "markdown",
      "metadata": {
        "id": "alsli7HcRqD9"
      },
      "source": [
        "#### Upper() Returns all the Charecters with Upper\n",
        "\n",
        "\n"
      ]
    },
    {
      "cell_type": "code",
      "metadata": {
        "id": "Rc6dJEylRih9"
      },
      "source": [
        "s = s.upper()"
      ],
      "execution_count": null,
      "outputs": []
    },
    {
      "cell_type": "code",
      "metadata": {
        "colab": {
          "base_uri": "https://localhost:8080/",
          "height": 35
        },
        "id": "eLJgml7gRn0Q",
        "outputId": "acd9d27a-fb34-41a1-a121-4e34c9c5dd86"
      },
      "source": [
        "s"
      ],
      "execution_count": null,
      "outputs": [
        {
          "output_type": "execute_result",
          "data": {
            "application/vnd.google.colaboratory.intrinsic+json": {
              "type": "string"
            },
            "text/plain": [
              "'SATWIK RAM K'"
            ]
          },
          "metadata": {
            "tags": []
          },
          "execution_count": 16
        }
      ]
    },
    {
      "cell_type": "markdown",
      "metadata": {
        "id": "q2DhEZpqSrPH"
      },
      "source": [
        "#### #### lower() Returns all the Charecters with lower\n"
      ]
    },
    {
      "cell_type": "code",
      "metadata": {
        "id": "8XquBGzDSqUw"
      },
      "source": [
        "s = s.lower()"
      ],
      "execution_count": null,
      "outputs": []
    },
    {
      "cell_type": "code",
      "metadata": {
        "colab": {
          "base_uri": "https://localhost:8080/",
          "height": 35
        },
        "id": "Bcch8HMuSvPN",
        "outputId": "ac8c11a8-68a3-4e81-fde3-344939fdff29"
      },
      "source": [
        "s"
      ],
      "execution_count": null,
      "outputs": [
        {
          "output_type": "execute_result",
          "data": {
            "application/vnd.google.colaboratory.intrinsic+json": {
              "type": "string"
            },
            "text/plain": [
              "'satwik ram k'"
            ]
          },
          "metadata": {
            "tags": []
          },
          "execution_count": 18
        }
      ]
    },
    {
      "cell_type": "markdown",
      "metadata": {
        "id": "B2TujmCjS1De"
      },
      "source": [
        "#### join()\tJoins the elements of an iterable to the end of the string"
      ]
    },
    {
      "cell_type": "code",
      "metadata": {
        "colab": {
          "base_uri": "https://localhost:8080/"
        },
        "id": "I3D9hi2-Swcp",
        "outputId": "063a69bf-20cc-4bf0-ce0d-5104cd2bd22d"
      },
      "source": [
        "myTuple = (\"John\", \"Peter\", \"Vicky\")\n",
        "\n",
        "\n",
        "x = \" \".join(reversed(myTuple))\n",
        "\n",
        "print(x)"
      ],
      "execution_count": null,
      "outputs": [
        {
          "output_type": "stream",
          "text": [
            "Vicky Peter John\n"
          ],
          "name": "stdout"
        }
      ]
    },
    {
      "cell_type": "markdown",
      "metadata": {
        "id": "4QDQRbAITgyJ"
      },
      "source": [
        "#### replace()\tReturns a string where a specified value is replaced with a specified value"
      ]
    },
    {
      "cell_type": "code",
      "metadata": {
        "colab": {
          "base_uri": "https://localhost:8080/"
        },
        "id": "WfyHTnwMS5Uk",
        "outputId": "850b1895-9ff0-40c0-f1b2-cc8e5dfd5bea"
      },
      "source": [
        "txt = \"I like bananas\"\n",
        "\n",
        "y = txt.replace(\"bananas\", \"apples\")\n",
        "\n",
        "print(y)"
      ],
      "execution_count": null,
      "outputs": [
        {
          "output_type": "stream",
          "text": [
            "I like apples\n"
          ],
          "name": "stdout"
        }
      ]
    },
    {
      "cell_type": "markdown",
      "metadata": {
        "id": "fUFiVQ7pUaOH"
      },
      "source": [
        "### Removing Stop Words"
      ]
    },
    {
      "cell_type": "code",
      "metadata": {
        "colab": {
          "base_uri": "https://localhost:8080/"
        },
        "id": "O0UkKUZBUgLx",
        "outputId": "1a55552b-6838-4255-9fd9-b5f13c73caea"
      },
      "source": [
        "import nltk\n",
        "from nltk.corpus import stopwords\n",
        "nltk.download('stopwords')\n"
      ],
      "execution_count": null,
      "outputs": [
        {
          "output_type": "stream",
          "text": [
            "[nltk_data] Downloading package stopwords to /root/nltk_data...\n",
            "[nltk_data]   Unzipping corpora/stopwords.zip.\n"
          ],
          "name": "stdout"
        },
        {
          "output_type": "execute_result",
          "data": {
            "text/plain": [
              "True"
            ]
          },
          "metadata": {
            "tags": []
          },
          "execution_count": 32
        }
      ]
    },
    {
      "cell_type": "code",
      "metadata": {
        "id": "Pl3sOO1JUoEB"
      },
      "source": [
        "stopwords = stopwords.words()"
      ],
      "execution_count": null,
      "outputs": []
    },
    {
      "cell_type": "code",
      "metadata": {
        "colab": {
          "base_uri": "https://localhost:8080/"
        },
        "id": "IVzZ0YYUU19D",
        "outputId": "f2222e32-4b51-446a-b6aa-c1f900c5f2d6"
      },
      "source": [
        "type(stopwords)"
      ],
      "execution_count": null,
      "outputs": [
        {
          "output_type": "execute_result",
          "data": {
            "text/plain": [
              "list"
            ]
          },
          "metadata": {
            "tags": []
          },
          "execution_count": 38
        }
      ]
    },
    {
      "cell_type": "code",
      "metadata": {
        "id": "Wj8-GbmLT1ee"
      },
      "source": [
        "a = \"I am Machine Learning Engineer at Google\""
      ],
      "execution_count": null,
      "outputs": []
    },
    {
      "cell_type": "code",
      "metadata": {
        "id": "qz0Syq9QcK6M"
      },
      "source": [
        "a = a.split()"
      ],
      "execution_count": null,
      "outputs": []
    },
    {
      "cell_type": "code",
      "metadata": {
        "colab": {
          "base_uri": "https://localhost:8080/"
        },
        "id": "_TX28BYhdFE9",
        "outputId": "46a8910f-b52d-4154-db0b-4f9874dc1feb"
      },
      "source": [
        "len(a)"
      ],
      "execution_count": null,
      "outputs": [
        {
          "output_type": "execute_result",
          "data": {
            "text/plain": [
              "7"
            ]
          },
          "metadata": {
            "tags": []
          },
          "execution_count": 92
        }
      ]
    },
    {
      "cell_type": "code",
      "metadata": {
        "id": "YW-xKssjfGK2"
      },
      "source": [
        "b = []"
      ],
      "execution_count": null,
      "outputs": []
    },
    {
      "cell_type": "code",
      "metadata": {
        "id": "DDbsjO60Vs--"
      },
      "source": [
        "for i in range(0, len(a)):\n",
        "  if a[i] not in stopwords:\n",
        "    b.append(a[i])"
      ],
      "execution_count": null,
      "outputs": []
    },
    {
      "cell_type": "code",
      "metadata": {
        "id": "8kLex1g3WQA3"
      },
      "source": [
        "b = \" \".join(b)"
      ],
      "execution_count": null,
      "outputs": []
    },
    {
      "cell_type": "code",
      "metadata": {
        "id": "mIoKNH07WR2K",
        "colab": {
          "base_uri": "https://localhost:8080/",
          "height": 35
        },
        "outputId": "327a378d-619e-4c37-8477-40802453d2f1"
      },
      "source": [
        "b"
      ],
      "execution_count": null,
      "outputs": [
        {
          "output_type": "execute_result",
          "data": {
            "application/vnd.google.colaboratory.intrinsic+json": {
              "type": "string"
            },
            "text/plain": [
              "'I Machine Learning Engineer Google'"
            ]
          },
          "metadata": {
            "tags": []
          },
          "execution_count": 97
        }
      ]
    },
    {
      "cell_type": "markdown",
      "metadata": {
        "id": "0gbULrVcfvjG"
      },
      "source": [
        "### Regular Expression"
      ]
    },
    {
      "cell_type": "code",
      "metadata": {
        "id": "N4qVrcS2f3ul"
      },
      "source": [
        "import re"
      ],
      "execution_count": null,
      "outputs": []
    },
    {
      "cell_type": "markdown",
      "metadata": {
        "id": "pDV34U8IgUGj"
      },
      "source": [
        "#### Re Methods"
      ]
    },
    {
      "cell_type": "markdown",
      "metadata": {
        "id": "QJfy_DekgX6k"
      },
      "source": [
        "findall\tReturns a list containing all matches\n",
        "\n",
        "search\tReturns a Match object if there is a match anywhere in the string\n",
        "\n",
        "split\tReturns a list where the string has been split at each match\n",
        "\n",
        "sub\tReplaces one or many matches with a string"
      ]
    },
    {
      "cell_type": "code",
      "metadata": {
        "id": "zTuv02x9gG5b"
      },
      "source": [
        "tweet = \"@satwikram29 Happy Birthday!!!!!\""
      ],
      "execution_count": null,
      "outputs": []
    },
    {
      "cell_type": "markdown",
      "metadata": {
        "id": "-5VxcgLmgb8w"
      },
      "source": [
        "#### findall\tReturns a list containing all matches"
      ]
    },
    {
      "cell_type": "code",
      "metadata": {
        "colab": {
          "base_uri": "https://localhost:8080/"
        },
        "id": "JrR_0Gu9gNBs",
        "outputId": "ae3152aa-3eaa-4963-bcc7-62cb8ea40323"
      },
      "source": [
        "t = re.findall(\"Happy\", tweet) # case sensitive\n",
        "print(t)"
      ],
      "execution_count": null,
      "outputs": [
        {
          "output_type": "stream",
          "text": [
            "['Happy']\n"
          ],
          "name": "stdout"
        }
      ]
    },
    {
      "cell_type": "markdown",
      "metadata": {
        "id": "i_f6GxeWg8fT"
      },
      "source": [
        "#### search\tReturns a Match object if there is a match anywhere in the string"
      ]
    },
    {
      "cell_type": "code",
      "metadata": {
        "colab": {
          "base_uri": "https://localhost:8080/"
        },
        "id": "4P7RrGa9g7oY",
        "outputId": "698b943a-d8e0-4bdf-8242-531c4dde302e"
      },
      "source": [
        "t = re.search(\"Happy\", tweet)\n",
        "print(t.start(), t.end())"
      ],
      "execution_count": null,
      "outputs": [
        {
          "output_type": "stream",
          "text": [
            "13 18\n"
          ],
          "name": "stdout"
        }
      ]
    },
    {
      "cell_type": "markdown",
      "metadata": {
        "id": "ikfsTLwahgy8"
      },
      "source": [
        "#### split\tReturns a list where the string has been split at each match"
      ]
    },
    {
      "cell_type": "code",
      "metadata": {
        "id": "ffPER5gXgnHU"
      },
      "source": [
        "t = re.split(\" \", tweet, 2)"
      ],
      "execution_count": null,
      "outputs": []
    },
    {
      "cell_type": "code",
      "metadata": {
        "colab": {
          "base_uri": "https://localhost:8080/"
        },
        "id": "v7Zx5_98hqih",
        "outputId": "ede06921-b24f-47d8-c31c-ec650bd25942"
      },
      "source": [
        "t"
      ],
      "execution_count": null,
      "outputs": [
        {
          "output_type": "execute_result",
          "data": {
            "text/plain": [
              "['@satwikram29', 'Happy', 'Birthday!!!!!']"
            ]
          },
          "metadata": {
            "tags": []
          },
          "execution_count": 120
        }
      ]
    },
    {
      "cell_type": "markdown",
      "metadata": {
        "id": "uJOvv-eCh6oO"
      },
      "source": [
        "#### sub\tReplaces one or many matches with a string\n",
        "\n",
        "**Very Important**"
      ]
    },
    {
      "cell_type": "code",
      "metadata": {
        "colab": {
          "base_uri": "https://localhost:8080/",
          "height": 35
        },
        "id": "zC4E7MqehsGm",
        "outputId": "e88e14ba-3818-468d-e462-e378763e7ce0"
      },
      "source": [
        "tweet"
      ],
      "execution_count": null,
      "outputs": [
        {
          "output_type": "execute_result",
          "data": {
            "application/vnd.google.colaboratory.intrinsic+json": {
              "type": "string"
            },
            "text/plain": [
              "'@satwikram29 Happy Birthday!!!!!'"
            ]
          },
          "metadata": {
            "tags": []
          },
          "execution_count": 128
        }
      ]
    },
    {
      "cell_type": "code",
      "metadata": {
        "id": "AnAFLgXRiCD8"
      },
      "source": [
        "sub = re.sub(r\"@\", \"\", tweet)\n",
        "sub = re.sub(r\"!\", \"\", sub)\n",
        "sub = re.sub(r\"[0-9]+\", \"\", sub)"
      ],
      "execution_count": null,
      "outputs": []
    },
    {
      "cell_type": "code",
      "metadata": {
        "colab": {
          "base_uri": "https://localhost:8080/",
          "height": 35
        },
        "id": "t3RZKaNYiQeO",
        "outputId": "ad8621f5-0450-4440-d9b9-844e8b8bfc55"
      },
      "source": [
        "sub"
      ],
      "execution_count": null,
      "outputs": [
        {
          "output_type": "execute_result",
          "data": {
            "application/vnd.google.colaboratory.intrinsic+json": {
              "type": "string"
            },
            "text/plain": [
              "'satwikram Happy Birthday'"
            ]
          },
          "metadata": {
            "tags": []
          },
          "execution_count": 136
        }
      ]
    },
    {
      "cell_type": "code",
      "metadata": {
        "id": "KnfD3Z_RiRJG"
      },
      "source": [
        "sub = re.sub(r\"@[a-zA-z0-9]+\", \"\", tweet)\n",
        "sub = re.sub(r\"!\", \"\", sub)\n",
        "sub = re.sub(r\"[0-9]+\", \"\", sub)\n",
        "sub = sub.strip()"
      ],
      "execution_count": null,
      "outputs": []
    },
    {
      "cell_type": "code",
      "metadata": {
        "colab": {
          "base_uri": "https://localhost:8080/",
          "height": 35
        },
        "id": "ZamijpvekD_P",
        "outputId": "c6a87d19-62a1-4029-c59c-8a4f23cb9c2d"
      },
      "source": [
        "sub"
      ],
      "execution_count": null,
      "outputs": [
        {
          "output_type": "execute_result",
          "data": {
            "application/vnd.google.colaboratory.intrinsic+json": {
              "type": "string"
            },
            "text/plain": [
              "'Happy Birthday'"
            ]
          },
          "metadata": {
            "tags": []
          },
          "execution_count": 161
        }
      ]
    },
    {
      "cell_type": "markdown",
      "metadata": {
        "id": "EFfU-FSBlgBJ"
      },
      "source": [
        "### OOPS"
      ]
    },
    {
      "cell_type": "code",
      "metadata": {
        "id": "L3xgNDsAkEle"
      },
      "source": [
        "class student:\n",
        "\n",
        "  def __init__(self, fname, lname):\n",
        "    self.fname = fname\n",
        "    self.lname = lname\n",
        "\n",
        "  def display(self):\n",
        "    print(self.fname,\"\\n\",self.lname)"
      ],
      "execution_count": null,
      "outputs": []
    },
    {
      "cell_type": "code",
      "metadata": {
        "id": "BIsGK3E5mINx"
      },
      "source": [
        "obj = student(\"Satwik\", \"Ram\")"
      ],
      "execution_count": null,
      "outputs": []
    },
    {
      "cell_type": "code",
      "metadata": {
        "colab": {
          "base_uri": "https://localhost:8080/"
        },
        "id": "SoigSzmWmVNK",
        "outputId": "32186c0b-39a5-4a3b-abaf-193e3bc2bb69"
      },
      "source": [
        "obj.display()"
      ],
      "execution_count": null,
      "outputs": [
        {
          "output_type": "stream",
          "text": [
            "Satwik \n",
            " Ram\n"
          ],
          "name": "stdout"
        }
      ]
    },
    {
      "cell_type": "code",
      "metadata": {
        "id": "Mcn20PMGnveF"
      },
      "source": [
        "obj.fname = \"Satwik Ram\""
      ],
      "execution_count": null,
      "outputs": []
    },
    {
      "cell_type": "code",
      "metadata": {
        "id": "lW0hx4OCoAMs"
      },
      "source": [
        "obj.lname = \"Kodandaram\""
      ],
      "execution_count": null,
      "outputs": []
    },
    {
      "cell_type": "code",
      "metadata": {
        "colab": {
          "base_uri": "https://localhost:8080/"
        },
        "id": "tViM1vM5oHJQ",
        "outputId": "28c587cb-88cc-4125-f16a-a9e2d8e85415"
      },
      "source": [
        "obj.display()"
      ],
      "execution_count": null,
      "outputs": [
        {
          "output_type": "stream",
          "text": [
            "Satwik Ram \n",
            " Kodandaram\n"
          ],
          "name": "stdout"
        }
      ]
    },
    {
      "cell_type": "code",
      "metadata": {
        "id": "OsbWxSsZoIYH"
      },
      "source": [
        "class studentemp(student):\n",
        "\n",
        "  def display(self):\n",
        "    print(self.fname+self.lname)"
      ],
      "execution_count": null,
      "outputs": []
    },
    {
      "cell_type": "code",
      "metadata": {
        "id": "zyjc2uy8ocYV"
      },
      "source": [
        "st = studentemp(\"Satwik\", \"Ram\")"
      ],
      "execution_count": null,
      "outputs": []
    },
    {
      "cell_type": "code",
      "metadata": {
        "colab": {
          "base_uri": "https://localhost:8080/"
        },
        "id": "lT2JoCr8ohD3",
        "outputId": "5320f4f6-4430-4398-90b2-e95dc136201d"
      },
      "source": [
        "st.display()"
      ],
      "execution_count": null,
      "outputs": [
        {
          "output_type": "stream",
          "text": [
            "SatwikRam\n"
          ],
          "name": "stdout"
        }
      ]
    },
    {
      "cell_type": "markdown",
      "metadata": {
        "id": "-zy0945oo1mH"
      },
      "source": [
        "#### super()"
      ]
    },
    {
      "cell_type": "code",
      "metadata": {
        "id": "lmHyadLDolCX"
      },
      "source": [
        "class Person:\n",
        "\n",
        "  def __init__(self, fname, lname):\n",
        "    self.firstname = fname\n",
        "    self.lastname = lname\n",
        "\n",
        "  def printname(self):\n",
        "    print(self.firstname, self.lastname)\n",
        "\n",
        "class Student(Person):\n",
        "  def __init__(self, fname, lname):\n",
        "    super().__init__(fname, lname)\n"
      ],
      "execution_count": null,
      "outputs": []
    },
    {
      "cell_type": "code",
      "metadata": {
        "colab": {
          "base_uri": "https://localhost:8080/"
        },
        "id": "L0sFt0rEpFhZ",
        "outputId": "f8eb0d69-9396-4b60-b4b8-d8801ed4fbf7"
      },
      "source": [
        "x = Student(\"Mike\", \"Olsen\")\n",
        "x.printname()"
      ],
      "execution_count": null,
      "outputs": [
        {
          "output_type": "stream",
          "text": [
            "Mike Olsen\n"
          ],
          "name": "stdout"
        }
      ]
    },
    {
      "cell_type": "markdown",
      "metadata": {
        "id": "Is0Gd51gphvL"
      },
      "source": [
        "### Dictionary Methods"
      ]
    },
    {
      "cell_type": "markdown",
      "metadata": {
        "id": "I8y4cz7ZpkkX"
      },
      "source": [
        "clear()\tRemoves all the elements from the dictionary\n",
        "\n",
        "copy()\tReturns a copy of the dictionary\n",
        "\n",
        "fromkeys()\tReturns a dictionary with the specified keys and value\n",
        "\n",
        "get()\tReturns the value of the specified key\n",
        "\n",
        "items()\tReturns a list containing a tuple for each key value pair\n",
        "\n",
        "keys()\tReturns a list containing the dictionary's keys\n",
        "\n",
        "pop()\tRemoves the element with the specified key\n",
        "\n",
        "popitem()\tRemoves the last inserted key-value pair\n",
        "\n",
        "setdefault()\tReturns the value of the specified key. If the key does not exist: insert the key, with the specified value\n",
        "\n",
        "update()\tUpdates the dictionary with the specified key-value pairs\n",
        "\n",
        "values()\tReturns a list of all the values in the dictionary"
      ]
    },
    {
      "cell_type": "markdown",
      "metadata": {
        "id": "ctmx1bPZp-b6"
      },
      "source": [
        "#### clear() Removes all the elements from the dictionary"
      ]
    },
    {
      "cell_type": "code",
      "metadata": {
        "id": "1nEDWtYrpHPu"
      },
      "source": [
        "z = {\"fname\": \"Satwik\",\n",
        "     \"lname\": \"Ram\"}"
      ],
      "execution_count": null,
      "outputs": []
    },
    {
      "cell_type": "code",
      "metadata": {
        "id": "pOCjYr18qRGV"
      },
      "source": [
        "z.clear()"
      ],
      "execution_count": null,
      "outputs": []
    },
    {
      "cell_type": "code",
      "metadata": {
        "colab": {
          "base_uri": "https://localhost:8080/"
        },
        "id": "-XyxOZtZqWz_",
        "outputId": "efbaf9e1-e314-4d1a-99c5-a85bcf7936f7"
      },
      "source": [
        "z"
      ],
      "execution_count": null,
      "outputs": [
        {
          "output_type": "execute_result",
          "data": {
            "text/plain": [
              "{}"
            ]
          },
          "metadata": {
            "tags": []
          },
          "execution_count": 202
        }
      ]
    },
    {
      "cell_type": "markdown",
      "metadata": {
        "id": "AADRbyWWqakV"
      },
      "source": [
        "#### copy() Returns a copy of the dictionary"
      ]
    },
    {
      "cell_type": "code",
      "metadata": {
        "id": "JDZYp0aIqXyG"
      },
      "source": [
        "z = {\"fname\": \"Satwik\",\n",
        "     \"lname\": \"Ram\"}"
      ],
      "execution_count": null,
      "outputs": []
    },
    {
      "cell_type": "code",
      "metadata": {
        "colab": {
          "base_uri": "https://localhost:8080/"
        },
        "id": "0eiUYdM5qgvT",
        "outputId": "9ee56147-f086-42dd-890b-347c9573d317"
      },
      "source": [
        "y = z.copy()\n",
        "y"
      ],
      "execution_count": null,
      "outputs": [
        {
          "output_type": "execute_result",
          "data": {
            "text/plain": [
              "{'fname': 'Satwik', 'lname': 'Ram'}"
            ]
          },
          "metadata": {
            "tags": []
          },
          "execution_count": 204
        }
      ]
    },
    {
      "cell_type": "markdown",
      "metadata": {
        "id": "_idUOlKaq7t4"
      },
      "source": [
        "#### items()\tReturns a list containing a tuple for each key value pair"
      ]
    },
    {
      "cell_type": "code",
      "metadata": {
        "id": "1a3jn85Lq3PW"
      },
      "source": [
        "a = z.items()\n",
        "z['fname'] = \"SSS\""
      ],
      "execution_count": null,
      "outputs": []
    },
    {
      "cell_type": "code",
      "metadata": {
        "colab": {
          "base_uri": "https://localhost:8080/"
        },
        "id": "hm1tI0zPq-GK",
        "outputId": "a5e2f6ab-c8ee-4d56-f4d0-e4b3a998d56c"
      },
      "source": [
        "a"
      ],
      "execution_count": null,
      "outputs": [
        {
          "output_type": "execute_result",
          "data": {
            "text/plain": [
              "dict_items([('fname', 'SSS'), ('lname', 'Ram')])"
            ]
          },
          "metadata": {
            "tags": []
          },
          "execution_count": 211
        }
      ]
    },
    {
      "cell_type": "markdown",
      "metadata": {
        "id": "rhxlS5CFrf3p"
      },
      "source": [
        "#### keys()\tReturns a list containing the dictionary's keys"
      ]
    },
    {
      "cell_type": "code",
      "metadata": {
        "colab": {
          "base_uri": "https://localhost:8080/"
        },
        "id": "71yuiQbYrcBz",
        "outputId": "8ee3593c-f230-4269-cbc1-73a8b01a8d7c"
      },
      "source": [
        "z.keys()"
      ],
      "execution_count": null,
      "outputs": [
        {
          "output_type": "execute_result",
          "data": {
            "text/plain": [
              "dict_keys(['fname', 'lname'])"
            ]
          },
          "metadata": {
            "tags": []
          },
          "execution_count": 212
        }
      ]
    },
    {
      "cell_type": "markdown",
      "metadata": {
        "id": "MAu9Q7dpH5i2"
      },
      "source": [
        "#### values()\tReturns a list of all the values in the dictionary"
      ]
    },
    {
      "cell_type": "code",
      "metadata": {
        "colab": {
          "base_uri": "https://localhost:8080/"
        },
        "id": "mRfR05RmrhxL",
        "outputId": "8ca145b8-deb0-4444-c012-28d68b5242fa"
      },
      "source": [
        "z.values()"
      ],
      "execution_count": null,
      "outputs": [
        {
          "output_type": "execute_result",
          "data": {
            "text/plain": [
              "dict_values(['SSS', 'Ram'])"
            ]
          },
          "metadata": {
            "tags": []
          },
          "execution_count": 213
        }
      ]
    },
    {
      "cell_type": "markdown",
      "metadata": {
        "id": "VNz2ttXZIgMv"
      },
      "source": [
        "#### update()\tUpdates the dictionary with the specified key-value pairs"
      ]
    },
    {
      "cell_type": "code",
      "metadata": {
        "colab": {
          "base_uri": "https://localhost:8080/"
        },
        "id": "z7ZyQK2CH8Nc",
        "outputId": "9765018b-47e6-41fc-a4cf-2218d55212ea"
      },
      "source": [
        "car = {\n",
        "  \"brand\": \"Ford\",\n",
        "  \"model\": \"Mustang\",\n",
        "  \"year\": 1964\n",
        "}\n",
        "\n",
        "car.update({\"color\": \"White\"})\n",
        "\n",
        "print(car)\n"
      ],
      "execution_count": null,
      "outputs": [
        {
          "output_type": "stream",
          "text": [
            "{'brand': 'Ford', 'model': 'Mustang', 'year': 1964, 'color': 'White'}\n"
          ],
          "name": "stdout"
        }
      ]
    },
    {
      "cell_type": "markdown",
      "metadata": {
        "id": "oMCymnEPI1JH"
      },
      "source": [
        "### Lambda Functions"
      ]
    },
    {
      "cell_type": "code",
      "metadata": {
        "id": "_zwRdKg8IjLR"
      },
      "source": [
        "l = lambda x: x+10"
      ],
      "execution_count": null,
      "outputs": []
    },
    {
      "cell_type": "code",
      "metadata": {
        "colab": {
          "base_uri": "https://localhost:8080/"
        },
        "id": "SXKZIuODKiFk",
        "outputId": "f94a6313-e13d-4baf-fc1e-2566c525c710"
      },
      "source": [
        "l(10)"
      ],
      "execution_count": null,
      "outputs": [
        {
          "output_type": "execute_result",
          "data": {
            "text/plain": [
              "20"
            ]
          },
          "metadata": {
            "tags": []
          },
          "execution_count": 216
        }
      ]
    },
    {
      "cell_type": "markdown",
      "metadata": {
        "id": "yb78iEteLePv"
      },
      "source": [
        "**Interview Questions, Most Asked**"
      ]
    },
    {
      "cell_type": "markdown",
      "metadata": {
        "id": "syjKTN6nLGAj"
      },
      "source": [
        "### Removing Duplicate Elements from List"
      ]
    },
    {
      "cell_type": "code",
      "metadata": {
        "id": "Rcfu7aG9KjaV"
      },
      "source": [
        "list1 = [1,1,1,2,3,4,5,3,3,3,4,5,5,4,3]"
      ],
      "execution_count": null,
      "outputs": []
    },
    {
      "cell_type": "code",
      "metadata": {
        "id": "tiSPj8vDLQxN"
      },
      "source": [
        "list1 = list(set(list1))"
      ],
      "execution_count": null,
      "outputs": []
    },
    {
      "cell_type": "code",
      "metadata": {
        "colab": {
          "base_uri": "https://localhost:8080/"
        },
        "id": "PhksNZOnLWml",
        "outputId": "f2aa7c87-3ec8-4af6-afd3-20c64f28a5cb"
      },
      "source": [
        "list1"
      ],
      "execution_count": null,
      "outputs": [
        {
          "output_type": "execute_result",
          "data": {
            "text/plain": [
              "[1, 2, 3, 4, 5]"
            ]
          },
          "metadata": {
            "tags": []
          },
          "execution_count": 219
        }
      ]
    },
    {
      "cell_type": "markdown",
      "metadata": {
        "id": "4sg7ARGELpzf"
      },
      "source": [
        "### Print 0-20 numbers without using any numbers"
      ]
    },
    {
      "cell_type": "code",
      "metadata": {
        "colab": {
          "base_uri": "https://localhost:8080/"
        },
        "id": "W7dZ1ekMLYOW",
        "outputId": "3cbc1b60-6c2b-40db-b994-804ac564c95a"
      },
      "source": [
        "test = \"jjdnnffinifninfininfinf\"\n",
        "\n",
        "for i in range(len(test)):\n",
        "  print(i)"
      ],
      "execution_count": null,
      "outputs": [
        {
          "output_type": "stream",
          "text": [
            "0\n",
            "1\n",
            "2\n",
            "3\n",
            "4\n",
            "5\n",
            "6\n",
            "7\n",
            "8\n",
            "9\n",
            "10\n",
            "11\n",
            "12\n",
            "13\n",
            "14\n",
            "15\n",
            "16\n",
            "17\n",
            "18\n",
            "19\n",
            "20\n",
            "21\n",
            "22\n"
          ],
          "name": "stdout"
        }
      ]
    },
    {
      "cell_type": "markdown",
      "metadata": {
        "id": "fbCZ9VGOL_wr"
      },
      "source": [
        "### Reverse a String or a List"
      ]
    },
    {
      "cell_type": "code",
      "metadata": {
        "colab": {
          "base_uri": "https://localhost:8080/"
        },
        "id": "eyoYyKwbL7Zu",
        "outputId": "a701c4e4-3201-427d-ec1f-c61c5d720285"
      },
      "source": [
        "list2 = [1,2,3,4,5]\n",
        "list2 = list2[::-1] # Same for String also\n",
        "list2 "
      ],
      "execution_count": null,
      "outputs": [
        {
          "output_type": "execute_result",
          "data": {
            "text/plain": [
              "[5, 4, 3, 2, 1]"
            ]
          },
          "metadata": {
            "tags": []
          },
          "execution_count": 223
        }
      ]
    },
    {
      "cell_type": "markdown",
      "metadata": {
        "id": "OOV7KqJOMYX4"
      },
      "source": [
        "### Remove all the odd elements from list using only one line code"
      ]
    },
    {
      "cell_type": "code",
      "metadata": {
        "id": "qWGtxC2YMKdn"
      },
      "source": [
        "b = [1,2,3,4,5,6,7,8,9,10]"
      ],
      "execution_count": null,
      "outputs": []
    },
    {
      "cell_type": "code",
      "metadata": {
        "id": "V8XpUK_LMrr8"
      },
      "source": [
        "b = [i for i in b if i % 2 == 0]"
      ],
      "execution_count": null,
      "outputs": []
    },
    {
      "cell_type": "code",
      "metadata": {
        "colab": {
          "base_uri": "https://localhost:8080/"
        },
        "id": "f8PMR9xsMytj",
        "outputId": "a8e38f30-ba6f-4634-f751-81b8ea2d3ab7"
      },
      "source": [
        "b"
      ],
      "execution_count": null,
      "outputs": [
        {
          "output_type": "execute_result",
          "data": {
            "text/plain": [
              "[2, 4, 6, 8, 10]"
            ]
          },
          "metadata": {
            "tags": []
          },
          "execution_count": 226
        }
      ]
    },
    {
      "cell_type": "markdown",
      "metadata": {
        "id": "UVZ-EPoFNgNv"
      },
      "source": [
        "### Interchange first and last element of the list"
      ]
    },
    {
      "cell_type": "code",
      "metadata": {
        "colab": {
          "base_uri": "https://localhost:8080/"
        },
        "id": "YWj1wkg5MzYY",
        "outputId": "928016b4-b0f9-4374-ac66-5a93153eaf51"
      },
      "source": [
        "b"
      ],
      "execution_count": null,
      "outputs": [
        {
          "output_type": "execute_result",
          "data": {
            "text/plain": [
              "[2, 4, 6, 8, 10]"
            ]
          },
          "metadata": {
            "tags": []
          },
          "execution_count": 227
        }
      ]
    },
    {
      "cell_type": "code",
      "metadata": {
        "id": "6l5_D9LxNn4I"
      },
      "source": [
        "def interchange(x):\n",
        "\n",
        "  last = len(x) - 1\n",
        "  a = x[0]\n",
        "  x[0] = x[last]\n",
        "  x[last] = a\n",
        "\n",
        "  return x"
      ],
      "execution_count": null,
      "outputs": []
    },
    {
      "cell_type": "code",
      "metadata": {
        "id": "gTNGs7h_Nwpg"
      },
      "source": [
        "b = interchange(b)"
      ],
      "execution_count": null,
      "outputs": []
    },
    {
      "cell_type": "code",
      "metadata": {
        "colab": {
          "base_uri": "https://localhost:8080/"
        },
        "id": "PBF1jJLJOROq",
        "outputId": "de6e38ee-80b8-4821-c822-e5c489ee7246"
      },
      "source": [
        "b"
      ],
      "execution_count": null,
      "outputs": [
        {
          "output_type": "execute_result",
          "data": {
            "text/plain": [
              "[10, 4, 6, 8, 2]"
            ]
          },
          "metadata": {
            "tags": []
          },
          "execution_count": 231
        }
      ]
    },
    {
      "cell_type": "markdown",
      "metadata": {
        "id": "5T2CzRAQOs1C"
      },
      "source": [
        "### find smallest number in a list without using builtin"
      ]
    },
    {
      "cell_type": "code",
      "metadata": {
        "colab": {
          "base_uri": "https://localhost:8080/"
        },
        "id": "N8bOJwgGORyN",
        "outputId": "bd1819f1-398d-467f-b244-ff54076fccb3"
      },
      "source": [
        "b"
      ],
      "execution_count": null,
      "outputs": [
        {
          "output_type": "execute_result",
          "data": {
            "text/plain": [
              "[10, 4, 6, 8, 2]"
            ]
          },
          "metadata": {
            "tags": []
          },
          "execution_count": 232
        }
      ]
    },
    {
      "cell_type": "code",
      "metadata": {
        "id": "6VEpBhoaO070"
      },
      "source": [
        "def minimum(x):\n",
        "\n",
        "  min = x[0]\n",
        "\n",
        "  for i in x:\n",
        "    if i < min:\n",
        "      min = i\n",
        "\n",
        "  return min"
      ],
      "execution_count": null,
      "outputs": []
    },
    {
      "cell_type": "code",
      "metadata": {
        "colab": {
          "base_uri": "https://localhost:8080/"
        },
        "id": "trpMaGhZPH9z",
        "outputId": "6c128aea-b135-4a50-927f-0eb93477bfce"
      },
      "source": [
        "print(minimum(b))"
      ],
      "execution_count": null,
      "outputs": [
        {
          "output_type": "stream",
          "text": [
            "2\n"
          ],
          "name": "stdout"
        }
      ]
    },
    {
      "cell_type": "markdown",
      "metadata": {
        "id": "zMXWpRjfTNbi"
      },
      "source": [
        "### Sort a list without using Builtin"
      ]
    },
    {
      "cell_type": "code",
      "metadata": {
        "colab": {
          "base_uri": "https://localhost:8080/"
        },
        "id": "Ozp1TyCNPLdL",
        "outputId": "ef25184b-5d70-4721-b5d0-5d4c768cafed"
      },
      "source": [
        "b"
      ],
      "execution_count": null,
      "outputs": [
        {
          "output_type": "execute_result",
          "data": {
            "text/plain": [
              "[10, 4, 6, 8, 2]"
            ]
          },
          "metadata": {
            "tags": []
          },
          "execution_count": 238
        }
      ]
    },
    {
      "cell_type": "code",
      "metadata": {
        "id": "CFlSIvfpTTiE"
      },
      "source": [
        "def sortlist(x):\n",
        "\n",
        "  dummy = []\n",
        "\n",
        "  while x:\n",
        "    mini = min(x)\n",
        "    dummy.append(mini)\n",
        "    x.remove(mini)\n",
        "    \n",
        "  return dummy"
      ],
      "execution_count": null,
      "outputs": []
    },
    {
      "cell_type": "code",
      "metadata": {
        "id": "-zGePlgRa_94"
      },
      "source": [
        "b = [10,9,8,7,6,7,8,4,3,3,2,1]"
      ],
      "execution_count": null,
      "outputs": []
    },
    {
      "cell_type": "code",
      "metadata": {
        "colab": {
          "base_uri": "https://localhost:8080/"
        },
        "id": "rmbJrpP8Zeqs",
        "outputId": "ebb6d83b-55c0-49af-cbc4-a1ac7234bbc1"
      },
      "source": [
        "sortlist(b)"
      ],
      "execution_count": null,
      "outputs": [
        {
          "output_type": "execute_result",
          "data": {
            "text/plain": [
              "[1, 2, 3, 3, 4, 6, 7, 7, 8, 8, 9, 10]"
            ]
          },
          "metadata": {
            "tags": []
          },
          "execution_count": 259
        }
      ]
    },
    {
      "cell_type": "markdown",
      "metadata": {
        "id": "xG_P91b5rJPL"
      },
      "source": [
        "### Print nested List items"
      ]
    },
    {
      "cell_type": "code",
      "metadata": {
        "id": "_NKaJBoL4jXt"
      },
      "source": [
        "def print_list(x):\n",
        "    \n",
        "    for i in x:\n",
        "        if isinstance(i, list):\n",
        "            print_list(i)\n",
        "        else:\n",
        "            print(i)"
      ],
      "execution_count": null,
      "outputs": []
    },
    {
      "cell_type": "code",
      "metadata": {
        "id": "Ac6A1cF7rbx0"
      },
      "source": [
        "ls = [1, [2,3], [[4,5,6, [7,8,9]]], [10,11,12]]"
      ],
      "execution_count": null,
      "outputs": []
    },
    {
      "cell_type": "code",
      "metadata": {
        "colab": {
          "base_uri": "https://localhost:8080/"
        },
        "id": "4L2GuxlxrXkL",
        "outputId": "8ba3193d-fc08-46a3-bbf9-ae314efd2507"
      },
      "source": [
        "print_list(ls)"
      ],
      "execution_count": null,
      "outputs": [
        {
          "output_type": "stream",
          "text": [
            "1\n",
            "2\n",
            "3\n",
            "4\n",
            "5\n",
            "6\n",
            "7\n",
            "8\n",
            "9\n",
            "10\n",
            "11\n",
            "12\n"
          ],
          "name": "stdout"
        }
      ]
    },
    {
      "cell_type": "markdown",
      "metadata": {
        "id": "MqWh8GtiZI2V"
      },
      "source": [
        "### Compare N elemnets of list and tell how many N combinations are same"
      ]
    },
    {
      "cell_type": "code",
      "metadata": {
        "id": "m6E9_Hu6rdvA",
        "colab": {
          "base_uri": "https://localhost:8080/"
        },
        "outputId": "1c3b618c-7633-4bfc-948c-7fa8443929ba"
      },
      "source": [
        "import itertools\n",
        "\n",
        "a = [5, 2, 3, 4, 5, 5, 5]\n",
        "\n",
        "print(list(itertools.combinations(a, 2)))\n",
        "\n",
        "for a, b in itertools.combinations(a, 2):\n",
        "    if a == b:\n",
        "        print(\"True\")"
      ],
      "execution_count": 1,
      "outputs": [
        {
          "output_type": "stream",
          "text": [
            "[(5, 2), (5, 3), (5, 4), (5, 5), (5, 5), (5, 5), (2, 3), (2, 4), (2, 5), (2, 5), (2, 5), (3, 4), (3, 5), (3, 5), (3, 5), (4, 5), (4, 5), (4, 5), (5, 5), (5, 5), (5, 5)]\n",
            "True\n",
            "True\n",
            "True\n",
            "True\n",
            "True\n",
            "True\n"
          ],
          "name": "stdout"
        }
      ]
    },
    {
      "cell_type": "code",
      "metadata": {
        "id": "MSGI-THUZQGM"
      },
      "source": [
        ""
      ],
      "execution_count": null,
      "outputs": []
    }
  ]
}